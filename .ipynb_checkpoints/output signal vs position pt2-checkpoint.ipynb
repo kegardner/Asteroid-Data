{
 "cells": [
  {
   "cell_type": "code",
   "execution_count": 1,
   "metadata": {},
   "outputs": [],
   "source": [
    "import numpy as np\n",
    "import matplotlib.pyplot as plt\n",
    "from scipy import optimize\n",
    "import math as ma\n",
    "import scipy.fftpack\n",
    "from scipy import signal"
   ]
  },
  {
   "cell_type": "code",
   "execution_count": 2,
   "metadata": {},
   "outputs": [],
   "source": [
    "D = .78 #diameter in centimeters\n",
    "G = .0042 #gap in centimeters "
   ]
  },
  {
   "cell_type": "code",
   "execution_count": 3,
   "metadata": {},
   "outputs": [
    {
     "name": "stdout",
     "output_type": "stream",
     "text": [
      "14.0\n"
     ]
    }
   ],
   "source": [
    "gridsize = 2600 # use odd number\n",
    "center = int((gridsize)/2) #index of center\n",
    "sigma = 12\n",
    "grid = np.zeros((gridsize,gridsize))\n",
    "gapsize = gridsize*(G/D) # size of gap in the grid\n",
    "print(gapsize)"
   ]
  },
  {
   "cell_type": "code",
   "execution_count": 4,
   "metadata": {},
   "outputs": [],
   "source": [
    "def LR_TB_SUM(x,y): #given x,y coordintates, get left-right, top-bottom, and sum\n",
    "    for i in range(gridsize):\n",
    "        for j in range(gridsize):\n",
    "            if (i-x)**2 + (j-y)**2 <= gridsize**2:\n",
    "                grid[i,j] = (10/(2*sigma*sigma*np.pi))*np.exp(-(((i-x)**2)+((j-y)**2))/(2*sigma*sigma))\n",
    "    xsums=np.sum(grid,1)\n",
    "    ysums=np.sum(grid,0)\n",
    "    halfwidth = int((gridsize - gapsize)/2)\n",
    "    Lsum = sum(xsums[:halfwidth])\n",
    "    Rsum = sum(xsums[-halfwidth:])\n",
    "    LRdif = Lsum-Rsum\n",
    "    Bsum = sum(ysums[:halfwidth])\n",
    "    Tsum = sum(ysums[-halfwidth:])\n",
    "    TBdif = Tsum-Bsum\n",
    "    TOTsum = np.sum(grid)\n",
    "    return LRdif, TBdif, TOTsum"
   ]
  },
  {
   "cell_type": "code",
   "execution_count": 5,
   "metadata": {},
   "outputs": [],
   "source": [
    "#x and y coordinates over even time steps\n",
    "#xpath = np.arange(-1*gridsize,2*gridsize,1) #move left to rigth at constant speed, span 3x diameter \n",
    "xpath = np.arange(0,gridsize,100)\n",
    "ypath = np.zeros(len(xpath)) #keep y at zero, and same length as xpath\n"
   ]
  },
  {
   "cell_type": "code",
   "execution_count": null,
   "metadata": {},
   "outputs": [],
   "source": [
    "LRTBS = []\n",
    "for t in range(len(xpath)):\n",
    "    stats = LR_TB_SUM(xpath[t],ypath[t])\n",
    "    LRTBS.append(stats)"
   ]
  },
  {
   "cell_type": "code",
   "execution_count": null,
   "metadata": {},
   "outputs": [],
   "source": [
    "leftrights = LRTBS[:][0]\n",
    "topbottoms = LRTBS[:][1]\n",
    "sums = LRTBS[:][2]\n",
    "plt.figure(figsize=[8,8])\n",
    "plt.plot(range(len(xpath)),leftrights,color=\"blue\")\n",
    "plt.plot(range(len(xpath)),topbottoms,color=\"red\")\n",
    "plt.plot(range(len(xpath)),sums,color=\"yellow\")\n",
    "plt.show()"
   ]
  },
  {
   "cell_type": "code",
   "execution_count": null,
   "metadata": {},
   "outputs": [],
   "source": []
  }
 ],
 "metadata": {
  "kernelspec": {
   "display_name": "Python 3",
   "language": "python",
   "name": "python3"
  },
  "language_info": {
   "codemirror_mode": {
    "name": "ipython",
    "version": 3
   },
   "file_extension": ".py",
   "mimetype": "text/x-python",
   "name": "python",
   "nbconvert_exporter": "python",
   "pygments_lexer": "ipython3",
   "version": "3.7.4"
  }
 },
 "nbformat": 4,
 "nbformat_minor": 2
}
